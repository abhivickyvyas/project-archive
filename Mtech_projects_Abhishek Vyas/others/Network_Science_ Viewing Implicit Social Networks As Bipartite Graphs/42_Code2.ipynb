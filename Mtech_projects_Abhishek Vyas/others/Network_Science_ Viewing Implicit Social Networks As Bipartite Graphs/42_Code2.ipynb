{
 "cells": [
  {
   "cell_type": "code",
   "execution_count": null,
   "metadata": {
    "id": "ER2j27ZGRafD"
   },
   "outputs": [],
   "source": [
    "# NS_citation_rewiring\n",
    "import networkx as nx\n",
    "import tqdm as tqdm"
   ]
  },
  {
   "cell_type": "code",
   "execution_count": null,
   "metadata": {
    "id": "LySe_VMOmWDx"
   },
   "outputs": [],
   "source": []
  },
  {
   "cell_type": "markdown",
   "metadata": {
    "id": "Yh8w40IFmWnM"
   },
   "source": [
    "## PreProcessing and making of Graph"
   ]
  },
  {
   "cell_type": "code",
   "execution_count": null,
   "metadata": {
    "id": "k0zTyimWSIDx"
   },
   "outputs": [],
   "source": [
    "# http://networkrepository.com/proximity.php\n",
    "# f = open(\"/content/drive/MyDrive/NSProjectDataset/citationData/CA-HepPh.txt\", \"r\")\n",
    "f = open(\"/content/drive/MyDrive/NSProjectDataset/citationData/Cit-HepPh1_large.txt\", \"r\")\n",
    "# tag1\n",
    "# f = open(\"C:\\\\Users\\\\abhishek\\\\Desktop\\\\iiitdabhi\\\\4rthSem\\\\NS\\\\ash1\\\\directed\\\\email-Eu-core.txt\", \"r\")\n",
    "edges=f.read().split(\"\\n\")\n",
    "node1_List=[]\n",
    "node2_List=[]\n",
    "\n",
    "for ed in edges:\n",
    "#     print(ed,ed.split())\n",
    "#     break\n",
    "#     print(eds)\n",
    "    eds=ed.split()\n",
    "    if(len(eds)!=0):\n",
    "        n1=int(eds[0])\n",
    "        n2=int(eds[1])\n",
    "#     print(eds,eds[0],eds[1])\n",
    "#     break\n",
    "        node1_List.append(n1)\n",
    "        node2_List.append(n2)\n",
    "G=nx.Graph()\n",
    "\n",
    "for edge in range(len(node1_List)):\n",
    "    node1=node1_List[edge]\n",
    "    node2=node2_List[edge]\n",
    "    G.add_edge(node1,node2)\n",
    "Degree_count_from={}\n",
    "Degree_count_to={}\n",
    "Degree_from={}\n",
    "Degree_to={}\n",
    "node1_List_set=set(node1_List)\n",
    "node2_List_set=set(node2_List)\n",
    "\n",
    "for x in node1_List_set:\n",
    "  # if(x not in Degree_count_from):\n",
    "      Degree_from[x]=G.degree(x)\n",
    "  # else:\n",
    "  #   print(\"hi\")\n",
    "  #   break\n",
    "\n",
    "for y in node2_List_set:\n",
    "  # if(x not in Degree_count_to):\n",
    "      Degree_to[y]=G.degree(y)\n",
    "  # else:\n",
    "  #   print(\"hello\")\n",
    "  #   break\n"
   ]
  },
  {
   "cell_type": "code",
   "execution_count": null,
   "metadata": {
    "id": "bVuQPgGOxGiF"
   },
   "outputs": [],
   "source": [
    "num_edges=len(node2_List)"
   ]
  },
  {
   "cell_type": "code",
   "execution_count": null,
   "metadata": {
    "id": "eF8k6D4z5fNz"
   },
   "outputs": [],
   "source": [
    "## "
   ]
  },
  {
   "cell_type": "markdown",
   "metadata": {
    "id": "qQ59gnBml7xo"
   },
   "source": [
    "## Rewiring Logic"
   ]
  },
  {
   "cell_type": "code",
   "execution_count": null,
   "metadata": {
    "id": "TlCQGT_xxGlE"
   },
   "outputs": [],
   "source": [
    "from random import randrange\n",
    "Gr=G.copy()   \n",
    "for i in range(num_edges):\n",
    "    rndnum=randrange(num_edges)\n",
    "    if(rndnum!=i and node1_List[i]!=node2_List[rndnum] and Gr.has_edge(node1_List[i],node2_List[i])):\n",
    "      Gr.remove_edge(node1_List[i],node2_List[i])\n",
    "      Gr.add_edge(node1_List[i],node2_List[rndnum])\n",
    "\n",
    "\n"
   ]
  },
  {
   "cell_type": "markdown",
   "metadata": {
    "id": "kd-Suj8MmClu"
   },
   "source": [
    "## Robustness for Rewired Citation Graph"
   ]
  },
  {
   "cell_type": "code",
   "execution_count": null,
   "metadata": {
    "id": "5tUo7vy1xHC1"
   },
   "outputs": [],
   "source": [
    "G1=Gr.copy()\n",
    "nodes_in_Graph=list(G1.nodes())\n",
    "size_of_lrgest_cnctd_cmpnt=[]\n",
    "percent_of_remaining_nodes=[]\n",
    "orignal_graph_no_of_nodes=len(nodes_in_Graph)\n",
    "# for x in tqdm.tqdm(nodes_in_Graph):\n",
    "i=0\n",
    "pbar = tqdm.tqdm(total=orignal_graph_no_of_nodes)\n",
    "while (i < orignal_graph_no_of_nodes): \n",
    "  largest_cc = max(nx.connected_components(G1), key=len)\n",
    "  percent_of_rnodes=round(len(G1.nodes())/orignal_graph_no_of_nodes,5)\n",
    "  size_of_lrgest_cnctd_cmpnt.append(len(largest_cc))\n",
    "  percent_of_remaining_nodes.append(percent_of_rnodes)\n",
    "  # print(len(largest_cc),percent_of_rnodes)\n",
    "  # G1.remove_node(x)\n",
    "  G1.remove_nodes_from(nodes_in_Graph[i:i+10])\n",
    "  pbar.update(10)\n",
    "  i+=10\n",
    "\n",
    "  # print(len(G1.nodes()))"
   ]
  },
  {
   "cell_type": "code",
   "execution_count": null,
   "metadata": {
    "colab": {
     "base_uri": "https://localhost:8080/",
     "height": 479
    },
    "id": "MDxksnqnxHFx",
    "outputId": "1790ca6b-a286-46c7-db1b-a7be9c77c66e"
   },
   "outputs": [
    {
     "name": "stderr",
     "output_type": "stream",
     "text": [
      "No handles with labels found to put in legend.\n"
     ]
    },
    {
     "data": {
      "image/png": "[encoded data removed]",
      "text/plain": [
       "<Figure size 720x504 with 1 Axes>"
      ]
     },
     "metadata": {
      "needs_background": "light",
      "tags": []
     },
     "output_type": "display_data"
    }
   ],
   "source": [
    "\n",
    "\n",
    "x_axis=percent_of_remaining_nodes\n",
    "y_axis=size_of_lrgest_cnctd_cmpnt\n",
    "\n",
    "import matplotlib.pyplot as plt \n",
    "import matplotlib\n",
    "# plt.scatter(x_axis, y_axis, label = \"fraction\") \n",
    "plt.loglog(x_axis, y_axis,\"o\") \n",
    "# plt.xscale(\"log\")\n",
    "# plt.yscale(\"log\")\n",
    "plt.xlabel('% of nodes remaining') \n",
    "\n",
    "plt.ylabel(' size of the largest connected component ') \n",
    " \n",
    "plt.title('Robustness') \n",
    "plt.legend() \n",
    "# plt.show() \n",
    "fig = matplotlib.pyplot.gcf()\n",
    "fig.set_size_inches(10, 7)"
   ]
  }
 ],
 "metadata": {
  "colab": {
   "collapsed_sections": [],
   "name": "42_Code2.ipynb",
   "provenance": []
  },
  "kernelspec": {
   "display_name": "Python 3",
   "language": "python",
   "name": "python3"
  },
  "language_info": {
   "codemirror_mode": {
    "name": "ipython",
    "version": 3
   },
   "file_extension": ".py",
   "mimetype": "text/x-python",
   "name": "python",
   "nbconvert_exporter": "python",
   "pygments_lexer": "ipython3",
   "version": "3.6.5"
  }
 },
 "nbformat": 4,
 "nbformat_minor": 1
}
