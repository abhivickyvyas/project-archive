{
 "cells": [
  {
   "cell_type": "code",
   "execution_count": 2,
   "metadata": {},
   "outputs": [
    {
     "name": "stdout",
     "output_type": "stream",
     "text": [
      "24058263\n"
     ]
    }
   ],
   "source": [
    "# Netflix\n",
    "file1 = open(r'C:\\Users\\DELL\\Downloads\\Compressed\\archive (1)\\combined_data_1.txt', 'r',  encoding=\"utf8\")\n",
    "Lines = file1.readlines()\n",
    "print(len(Lines))"
   ]
  },
  {
   "cell_type": "markdown",
   "metadata": {},
   "source": [
    "### Preprocessing"
   ]
  },
  {
   "cell_type": "code",
   "execution_count": 3,
   "metadata": {},
   "outputs": [
    {
     "name": "stderr",
     "output_type": "stream",
     "text": [
      "100%|██████████████████████████████████████████████████████████████████| 24058263/24058263 [00:45<00:00, 533813.51it/s]"
     ]
    },
    {
     "name": "stdout",
     "output_type": "stream",
     "text": [
      "24053764\n",
      "24053764\n",
      "24053764\n"
     ]
    },
    {
     "name": "stderr",
     "output_type": "stream",
     "text": [
      "\n"
     ]
    }
   ],
   "source": [
    "from tqdm import tqdm\n",
    "movie_list= []\n",
    "user_list = []\n",
    "time_list = []\n",
    "count = 0\n",
    "movie_id = \"\"\n",
    "for i in tqdm(range(0, len(Lines))):\n",
    "    count += 1\n",
    "    if(Lines[i][-2:-1])==':':\n",
    "        movie_id = int(Lines[i][:-2])\n",
    "    else:\n",
    "        movie_list.append(movie_id)\n",
    "        user_list.append(int(Lines[i].split(\",\")[0]))\n",
    "        time_list.append(Lines[i].split(\",\")[2])\n",
    "    \n",
    "print(len(user_list))\n",
    "print(len(movie_list))\n",
    "print(len(time_list))"
   ]
  },
  {
   "cell_type": "code",
   "execution_count": 4,
   "metadata": {},
   "outputs": [
    {
     "name": "stdout",
     "output_type": "stream",
     "text": [
      "<class 'int'> 1\n",
      "<class 'int'> 1488844\n",
      "<class 'str'> 2005-09-06\n",
      "\n"
     ]
    }
   ],
   "source": [
    "print(type(movie_list[0]), movie_list[0])\n",
    "print(type(user_list[0]), user_list[0])\n",
    "print(type(time_list[0]), time_list[0])"
   ]
  },
  {
   "cell_type": "code",
   "execution_count": null,
   "metadata": {},
   "outputs": [],
   "source": [
    "import networkx as nx\n",
    "G = nx.Graph()"
   ]
  },
  {
   "cell_type": "code",
   "execution_count": 12,
   "metadata": {},
   "outputs": [
    {
     "name": "stderr",
     "output_type": "stream",
     "text": [
      "100%|██████████████████████████████████████████████████████████████████| 24053764/24053764 [00:32<00:00, 743010.40it/s]\n"
     ]
    }
   ],
   "source": [
    "movie_degree_dict = {}\n",
    "user_degree_dict = {}\n",
    "probability_dict = {}\n",
    "total_degree = 0\n",
    "count = 0\n",
    "for i in tqdm(range(0, len(movie_list))):\n",
    "    count += 1\n",
    "    node1 = movie_list[i]\n",
    "    node2 = user_list[i]\n",
    "    if node1 not in movie_degree_dict:\n",
    "        movie_degree_dict[node1] = 0\n",
    "    movie_degree_dict[node1] += 1\n",
    "    \n",
    "    if node2 not in user_degree_dict:\n",
    "        user_degree_dict[node2] = 0\n",
    "    user_degree_dict[node2] += 1\n",
    "    \n",
    "    total_degree += 2\n",
    "    probability_dict[node2] = user_degree_dict[node2]/total_degree\n",
    "    \n",
    "#     if count == 10:\n",
    "#         print(movie_degree_dict)\n",
    "#         print(user_degree_dict)\n",
    "#         print(probability_dict)\n",
    "#         break\n",
    "    "
   ]
  },
  {
   "cell_type": "code",
   "execution_count": null,
   "metadata": {},
   "outputs": [],
   "source": []
  },
  {
   "cell_type": "code",
   "execution_count": 13,
   "metadata": {},
   "outputs": [
    {
     "name": "stdout",
     "output_type": "stream",
     "text": [
      "470758\n",
      "470758\n"
     ]
    }
   ],
   "source": [
    "print(len(user_degree_dict.values()))\n",
    "print(len(probability_dict))"
   ]
  },
  {
   "cell_type": "code",
   "execution_count": 62,
   "metadata": {},
   "outputs": [],
   "source": [
    "# for key, value in probability_dict.items():\n",
    "#     print(key, value)"
   ]
  },
  {
   "cell_type": "code",
   "execution_count": null,
   "metadata": {},
   "outputs": [],
   "source": []
  },
  {
   "cell_type": "markdown",
   "metadata": {},
   "source": [
    "### Network Evolution : Probability vs Destination Degree"
   ]
  },
  {
   "cell_type": "code",
   "execution_count": 14,
   "metadata": {},
   "outputs": [
    {
     "data": {
      "image/png": "[encoded data removed]",
      "text/plain": [
       "<Figure size 720x504 with 1 Axes>"
      ]
     },
     "metadata": {
      "needs_background": "light"
     },
     "output_type": "display_data"
    }
   ],
   "source": [
    "import matplotlib.pyplot as plt \n",
    "import matplotlib\n",
    "# plt.scatter(x_axis, y_axis, label = \"fraction\", color='blue') \n",
    "plt.loglog(list(probability_dict.values()), list(user_degree_dict.values()), \"o\", label = \"scaled frequencies\") \n",
    "# plt.scatter(list(probability_dict.values()), list(movie_degree_dict.values()), label = \"scaled frequencies\") \n",
    "# plt.xscale(\"log\")\n",
    "# plt.yscale(\"log\")\n",
    "plt.xlabel('probability') \n",
    "\n",
    "plt.ylabel('degree')\n",
    " \n",
    "plt.title('Evolution')\n",
    "plt.legend() \n",
    "# plt.show() \n",
    "fig = matplotlib.pyplot.gcf()\n",
    "fig.set_size_inches(10, 7)"
   ]
  },
  {
   "cell_type": "code",
   "execution_count": 5,
   "metadata": {},
   "outputs": [],
   "source": [
    "import networkx as nx\n",
    "G = nx.Graph()"
   ]
  },
  {
   "cell_type": "code",
   "execution_count": 6,
   "metadata": {},
   "outputs": [
    {
     "name": "stderr",
     "output_type": "stream",
     "text": [
      "100%|██████████████████████████████████████████████████████████████████| 24053764/24053764 [01:56<00:00, 207249.97it/s]\n"
     ]
    }
   ],
   "source": [
    "for edge in tqdm(range(len(user_list))):\n",
    "    node1=user_list[edge]\n",
    "    node2=movie_list[edge]\n",
    "    G.add_edge(node1,node2)\n",
    "Degree_count_from={}\n",
    "Degree_count_to={}\n",
    "Degree_from={}\n",
    "Degree_to={}\n",
    "user_list_set=set(user_list)\n",
    "movie_list_set=set(movie_list)\n",
    "\n",
    "for x in user_list_set:\n",
    "  # if(x not in Degree_count_from):\n",
    "      Degree_from[x]=G.degree(x)\n",
    "  # else:\n",
    "  #   print(\"hi\")\n",
    "  #   break\n",
    "\n",
    "for y in movie_list_set:\n",
    "  # if(x not in Degree_count_to):\n",
    "      Degree_to[y]=G.degree(y)\n"
   ]
  },
  {
   "cell_type": "markdown",
   "metadata": {},
   "source": [
    "### Degree Distribution : User"
   ]
  },
  {
   "cell_type": "code",
   "execution_count": 9,
   "metadata": {},
   "outputs": [
    {
     "name": "stderr",
     "output_type": "stream",
     "text": [
      "No handles with labels found to put in legend.\n"
     ]
    },
    {
     "data": {
      "image/png": "[encoded data removed]",
      "text/plain": [
       "<Figure size 720x504 with 1 Axes>"
      ]
     },
     "metadata": {
      "needs_background": "light"
     },
     "output_type": "display_data"
    }
   ],
   "source": [
    "list_of_degrees=list(Degree_from.values())\n",
    "from_degree_counts={}\n",
    "for deg in list_of_degrees:\n",
    "    if(deg in from_degree_counts):\n",
    "        from_degree_counts[deg]+=1\n",
    "    else:\n",
    "        from_degree_counts[deg]=1\n",
    "max_from_degree_freq=max(from_degree_counts.values())\n",
    "\n",
    "\n",
    "from_degree_counts1=from_degree_counts.copy()\n",
    "\n",
    "from_distis=dict((sorted(from_degree_counts1.items())))\n",
    "from_max_degree_count=max(from_distis.values())\n",
    "# total_nodes=sum(distis.values())\n",
    "# from_distis.update((x, round(y/from_max_degree_count,2)) for x, y in from_distis.items())\n",
    "# x_axis=list(from_distis.keys())[1:len(from_distis.keys())]\n",
    "# y_axis=list(from_distis.values())[1:len(from_distis.values())]\n",
    "\n",
    "x_axis=list(from_distis.keys())\n",
    "y_axis=list(from_distis.values())\n",
    "\n",
    "import matplotlib.pyplot as plt \n",
    "import matplotlib\n",
    "plt.loglog(x_axis, y_axis,\"o\") \n",
    "# plt.xscale(\"log\")\n",
    "# plt.yscale(\"log\")\n",
    "plt.xlabel('degree') \n",
    "\n",
    "plt.ylabel('number of nodes having degree') \n",
    " \n",
    "plt.title('Degree Distribution of User') \n",
    "plt.legend() \n",
    "# plt.show() \n",
    "fig = matplotlib.pyplot.gcf()\n",
    "fig.set_size_inches(10, 7)"
   ]
  },
  {
   "cell_type": "markdown",
   "metadata": {},
   "source": [
    "### Degree Distribution : Movies"
   ]
  },
  {
   "cell_type": "code",
   "execution_count": 10,
   "metadata": {},
   "outputs": [
    {
     "name": "stderr",
     "output_type": "stream",
     "text": [
      "No handles with labels found to put in legend.\n"
     ]
    },
    {
     "data": {
      "image/png": "[encoded data removed]",
      "text/plain": [
       "<Figure size 720x504 with 1 Axes>"
      ]
     },
     "metadata": {
      "needs_background": "light"
     },
     "output_type": "display_data"
    }
   ],
   "source": [
    "list_of_degrees=list(Degree_to.values())\n",
    "to_degree_counts={}\n",
    "for deg in list_of_degrees:\n",
    "    if(deg in to_degree_counts):\n",
    "        to_degree_counts[deg]+=1\n",
    "    else:\n",
    "        to_degree_counts[deg]=1\n",
    "max_to_degree_freq=max(to_degree_counts.values())\n",
    "\n",
    "\n",
    "to_degree_counts1=to_degree_counts.copy()\n",
    "\n",
    "to_distis=dict((sorted(to_degree_counts1.items())))\n",
    "to_max_degree_count=max(to_distis.values())\n",
    "# total_nodes=sum(distis.values())\n",
    "# to_distis.update((x, round(y/to_max_degree_count,2)) for x, y in to_distis.items())\n",
    "# x_axis=list(to_distis.keys())[1:len(to_distis.keys())]\n",
    "# y_axis=list(to_distis.values())[1:len(to_distis.values())]\n",
    "\n",
    "x_axis1=list(to_distis.keys())\n",
    "y_axis1=list(to_distis.values())\n",
    "\n",
    "import matplotlib.pyplot as plt \n",
    "import matplotlib\n",
    "# plt.scatter(x_axis1, y_axis1, label = \"fraction\") \n",
    "plt.loglog(x_axis1, y_axis1,\"o\" ) \n",
    "# plt.xscale(\"log\")\n",
    "# plt.yscale(\"log\")\n",
    "plt.xlabel('degree') \n",
    "\n",
    "plt.ylabel('number of nodes having degree') \n",
    " \n",
    "plt.title('Degree Distribution of Movies') \n",
    "plt.legend() \n",
    "# plt.show() \n",
    "fig = matplotlib.pyplot.gcf()\n",
    "fig.set_size_inches(10, 7)"
   ]
  }
 ],
 "metadata": {
  "kernelspec": {
   "display_name": "Python 3",
   "language": "python",
   "name": "python3"
  },
  "language_info": {
   "codemirror_mode": {
    "name": "ipython",
    "version": 3
   },
   "file_extension": ".py",
   "mimetype": "text/x-python",
   "name": "python",
   "nbconvert_exporter": "python",
   "pygments_lexer": "ipython3",
   "version": "3.6.5"
  }
 },
 "nbformat": 4,
 "nbformat_minor": 4
}
