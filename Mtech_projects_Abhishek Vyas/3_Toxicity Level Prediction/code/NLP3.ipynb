{
  "nbformat": 4,
  "nbformat_minor": 0,
  "metadata": {
    "colab": {
      "name": "NLP3.ipynb",
      "provenance": []
    },
    "kernelspec": {
      "name": "python3",
      "display_name": "Python 3"
    }
  },
  "cells": [
    {
      "cell_type": "code",
      "metadata": {
        "id": "QxtOWjIliicM",
        "colab_type": "code",
        "colab": {
          "base_uri": "https://localhost:8080/",
          "height": 121
        },
        "outputId": "3009759f-454d-45f3-d9ea-1d285eb3bd6c"
      },
      "source": [
        "from google.colab import drive\n",
        "drive.mount('/content/drive')"
      ],
      "execution_count": 1,
      "outputs": [
        {
          "output_type": "stream",
          "text": [
            "Go to this URL in a browser: https://accounts.google.com/o/oauth2/auth?client_id=947318989803-6bn6qk8qdgf4n4g3pfee6491hc0brc4i.apps.googleusercontent.com&redirect_uri=urn%3aietf%3awg%3aoauth%3a2.0%3aoob&response_type=code&scope=email%20https%3a%2f%2fwww.googleapis.com%2fauth%2fdocs.test%20https%3a%2f%2fwww.googleapis.com%2fauth%2fdrive%20https%3a%2f%2fwww.googleapis.com%2fauth%2fdrive.photos.readonly%20https%3a%2f%2fwww.googleapis.com%2fauth%2fpeopleapi.readonly\n",
            "\n",
            "Enter your authorization code:\n",
            "··········\n",
            "Mounted at /content/drive\n"
          ],
          "name": "stdout"
        }
      ]
    },
    {
      "cell_type": "code",
      "metadata": {
        "id": "Pc8SUnyyi75m",
        "colab_type": "code",
        "colab": {
          "base_uri": "https://localhost:8080/",
          "height": 808
        },
        "outputId": "63f94a96-d741-4d16-8558-8832f9572e40"
      },
      "source": [
        "import pandas as pd\n",
        "data = pd.read_csv('/content/drive/My Drive/merge_test_labels.csv')\n",
        "data"
      ],
      "execution_count": 2,
      "outputs": [
        {
          "output_type": "execute_result",
          "data": {
            "text/html": [
              "<div>\n",
              "<style scoped>\n",
              "    .dataframe tbody tr th:only-of-type {\n",
              "        vertical-align: middle;\n",
              "    }\n",
              "\n",
              "    .dataframe tbody tr th {\n",
              "        vertical-align: top;\n",
              "    }\n",
              "\n",
              "    .dataframe thead th {\n",
              "        text-align: right;\n",
              "    }\n",
              "</style>\n",
              "<table border=\"1\" class=\"dataframe\">\n",
              "  <thead>\n",
              "    <tr style=\"text-align: right;\">\n",
              "      <th></th>\n",
              "      <th>Unnamed: 0</th>\n",
              "      <th>comment_text</th>\n",
              "      <th>num_words</th>\n",
              "      <th>length</th>\n",
              "      <th>unique_words</th>\n",
              "      <th>num_punctuations</th>\n",
              "      <th>num_symbols</th>\n",
              "      <th>num_stop_words</th>\n",
              "      <th>num_capitals</th>\n",
              "      <th>num_small</th>\n",
              "      <th>capital_proportions</th>\n",
              "      <th>small_proportions</th>\n",
              "      <th>Class Label</th>\n",
              "    </tr>\n",
              "  </thead>\n",
              "  <tbody>\n",
              "    <tr>\n",
              "      <th>0</th>\n",
              "      <td>0</td>\n",
              "      <td>Explanation\\nWhy the edits made under my usern...</td>\n",
              "      <td>47</td>\n",
              "      <td>264</td>\n",
              "      <td>45</td>\n",
              "      <td>6</td>\n",
              "      <td>0</td>\n",
              "      <td>15</td>\n",
              "      <td>17</td>\n",
              "      <td>186</td>\n",
              "      <td>6.439394</td>\n",
              "      <td>70.454545</td>\n",
              "      <td>non_toxic</td>\n",
              "    </tr>\n",
              "    <tr>\n",
              "      <th>1</th>\n",
              "      <td>1</td>\n",
              "      <td>D'aww! He matches this background colour I'm s...</td>\n",
              "      <td>18</td>\n",
              "      <td>112</td>\n",
              "      <td>18</td>\n",
              "      <td>5</td>\n",
              "      <td>0</td>\n",
              "      <td>2</td>\n",
              "      <td>8</td>\n",
              "      <td>65</td>\n",
              "      <td>7.142857</td>\n",
              "      <td>58.035714</td>\n",
              "      <td>non_toxic</td>\n",
              "    </tr>\n",
              "    <tr>\n",
              "      <th>2</th>\n",
              "      <td>2</td>\n",
              "      <td>Hey man, I'm really not trying to edit war. It...</td>\n",
              "      <td>42</td>\n",
              "      <td>233</td>\n",
              "      <td>39</td>\n",
              "      <td>4</td>\n",
              "      <td>0</td>\n",
              "      <td>18</td>\n",
              "      <td>4</td>\n",
              "      <td>182</td>\n",
              "      <td>1.716738</td>\n",
              "      <td>78.111588</td>\n",
              "      <td>non_toxic</td>\n",
              "    </tr>\n",
              "    <tr>\n",
              "      <th>3</th>\n",
              "      <td>3</td>\n",
              "      <td>\"\\nMore\\nI can't make any real suggestions on ...</td>\n",
              "      <td>111</td>\n",
              "      <td>622</td>\n",
              "      <td>80</td>\n",
              "      <td>6</td>\n",
              "      <td>0</td>\n",
              "      <td>52</td>\n",
              "      <td>11</td>\n",
              "      <td>475</td>\n",
              "      <td>1.768489</td>\n",
              "      <td>76.366559</td>\n",
              "      <td>non_toxic</td>\n",
              "    </tr>\n",
              "    <tr>\n",
              "      <th>4</th>\n",
              "      <td>4</td>\n",
              "      <td>You, sir, are my hero. Any chance you remember...</td>\n",
              "      <td>13</td>\n",
              "      <td>67</td>\n",
              "      <td>13</td>\n",
              "      <td>3</td>\n",
              "      <td>0</td>\n",
              "      <td>5</td>\n",
              "      <td>2</td>\n",
              "      <td>48</td>\n",
              "      <td>2.985075</td>\n",
              "      <td>71.641791</td>\n",
              "      <td>non_toxic</td>\n",
              "    </tr>\n",
              "    <tr>\n",
              "      <th>...</th>\n",
              "      <td>...</td>\n",
              "      <td>...</td>\n",
              "      <td>...</td>\n",
              "      <td>...</td>\n",
              "      <td>...</td>\n",
              "      <td>...</td>\n",
              "      <td>...</td>\n",
              "      <td>...</td>\n",
              "      <td>...</td>\n",
              "      <td>...</td>\n",
              "      <td>...</td>\n",
              "      <td>...</td>\n",
              "      <td>...</td>\n",
              "    </tr>\n",
              "    <tr>\n",
              "      <th>159566</th>\n",
              "      <td>159566</td>\n",
              "      <td>\":::::And for the second time of asking, when ...</td>\n",
              "      <td>45</td>\n",
              "      <td>295</td>\n",
              "      <td>41</td>\n",
              "      <td>8</td>\n",
              "      <td>0</td>\n",
              "      <td>19</td>\n",
              "      <td>2</td>\n",
              "      <td>225</td>\n",
              "      <td>0.677966</td>\n",
              "      <td>76.271186</td>\n",
              "      <td>non_toxic</td>\n",
              "    </tr>\n",
              "    <tr>\n",
              "      <th>159567</th>\n",
              "      <td>159567</td>\n",
              "      <td>You should be ashamed of yourself \\n\\nThat is ...</td>\n",
              "      <td>21</td>\n",
              "      <td>99</td>\n",
              "      <td>21</td>\n",
              "      <td>4</td>\n",
              "      <td>0</td>\n",
              "      <td>9</td>\n",
              "      <td>2</td>\n",
              "      <td>64</td>\n",
              "      <td>2.020202</td>\n",
              "      <td>64.646465</td>\n",
              "      <td>non_toxic</td>\n",
              "    </tr>\n",
              "    <tr>\n",
              "      <th>159568</th>\n",
              "      <td>159568</td>\n",
              "      <td>Spitzer \\n\\nUmm, theres no actual article for ...</td>\n",
              "      <td>11</td>\n",
              "      <td>81</td>\n",
              "      <td>11</td>\n",
              "      <td>3</td>\n",
              "      <td>0</td>\n",
              "      <td>2</td>\n",
              "      <td>4</td>\n",
              "      <td>59</td>\n",
              "      <td>4.938272</td>\n",
              "      <td>72.839506</td>\n",
              "      <td>non_toxic</td>\n",
              "    </tr>\n",
              "    <tr>\n",
              "      <th>159569</th>\n",
              "      <td>159569</td>\n",
              "      <td>And it looks like it was actually you who put ...</td>\n",
              "      <td>25</td>\n",
              "      <td>116</td>\n",
              "      <td>22</td>\n",
              "      <td>1</td>\n",
              "      <td>0</td>\n",
              "      <td>14</td>\n",
              "      <td>2</td>\n",
              "      <td>89</td>\n",
              "      <td>1.724138</td>\n",
              "      <td>76.724138</td>\n",
              "      <td>non_toxic</td>\n",
              "    </tr>\n",
              "    <tr>\n",
              "      <th>159570</th>\n",
              "      <td>159570</td>\n",
              "      <td>\"\\nAnd ... I really don't think you understand...</td>\n",
              "      <td>33</td>\n",
              "      <td>189</td>\n",
              "      <td>28</td>\n",
              "      <td>7</td>\n",
              "      <td>0</td>\n",
              "      <td>11</td>\n",
              "      <td>4</td>\n",
              "      <td>132</td>\n",
              "      <td>2.116402</td>\n",
              "      <td>69.841270</td>\n",
              "      <td>non_toxic</td>\n",
              "    </tr>\n",
              "  </tbody>\n",
              "</table>\n",
              "<p>159571 rows × 13 columns</p>\n",
              "</div>"
            ],
            "text/plain": [
              "        Unnamed: 0  ... Class Label\n",
              "0                0  ...   non_toxic\n",
              "1                1  ...   non_toxic\n",
              "2                2  ...   non_toxic\n",
              "3                3  ...   non_toxic\n",
              "4                4  ...   non_toxic\n",
              "...            ...  ...         ...\n",
              "159566      159566  ...   non_toxic\n",
              "159567      159567  ...   non_toxic\n",
              "159568      159568  ...   non_toxic\n",
              "159569      159569  ...   non_toxic\n",
              "159570      159570  ...   non_toxic\n",
              "\n",
              "[159571 rows x 13 columns]"
            ]
          },
          "metadata": {
            "tags": []
          },
          "execution_count": 2
        }
      ]
    },
    {
      "cell_type": "code",
      "metadata": {
        "id": "4ylWhOvvjSDj",
        "colab_type": "code",
        "colab": {
          "base_uri": "https://localhost:8080/",
          "height": 252
        },
        "outputId": "8c631996-8f79-4f7e-dd89-d7ff4cfe2059"
      },
      "source": [
        "# Encode the data in order to do classification\n",
        "from sklearn import preprocessing\n",
        "#creating labelEncoder\n",
        "le = preprocessing.LabelEncoder()\n",
        "attributes = data.columns\n",
        "# Converting string labels into numbers.\n",
        "encoded_data =[]\n",
        "for i in attributes:\n",
        "    encoded_data.append([])\n",
        "\n",
        "for i in range(0,len(attributes)):\n",
        "    # print(attributes[i])\n",
        "    encoded_data[i]=le.fit_transform(data[attributes[i]].astype(str))\n",
        "print(\"Encoded Data\")\n",
        "for i in range(0,len(encoded_data)):\n",
        "    print(encoded_data[i])"
      ],
      "execution_count": 3,
      "outputs": [
        {
          "output_type": "stream",
          "text": [
            "Encoded Data\n",
            "[    0     1 70683 ... 66189 66190 66192]\n",
            "[ 72696  68357  79592 ... 122203  60035  31106]\n",
            "[439 117 384 ...  26 195 284]\n",
            "[1738  132 1449 ... 3837  176  985]\n",
            "[380  89 322 ...  12 134 200]\n",
            "[155 144 131 ... 115   1 168]\n",
            "[0 0 0 ... 0 0 0]\n",
            "[ 57 112  90 ... 112  46  13]\n",
            "[110 592 415 ... 415 154 415]\n",
            "[ 942 2916  902 ... 2849 3182  358]\n",
            "[21248 22095  3840 ... 18750  3875  7302]\n",
            "[ 8163  2259 27466 ... 12006 23277  7430]\n",
            "[3 3 3 ... 3 3 3]\n"
          ],
          "name": "stdout"
        }
      ]
    },
    {
      "cell_type": "code",
      "metadata": {
        "id": "M2-e_smTjYs6",
        "colab_type": "code",
        "colab": {
          "base_uri": "https://localhost:8080/",
          "height": 84
        },
        "outputId": "53c57306-2acf-4cd7-dd4c-9543f147f6be"
      },
      "source": [
        "print(data.shape)\n",
        "from sklearn.model_selection import KFold\n",
        "indexes = data.index\n",
        "attributes = data.columns\n",
        "\n",
        "encoded_dataframe = pd.DataFrame(index=indexes)\n",
        "# print(encoded_dataframe)\n",
        "for i in range(0,len(encoded_data)):\n",
        "    encoded_dataframe.insert(i, attributes[i], encoded_data[i], True)\n",
        "# print(encoded_dataframe.shape)\n",
        "# print(encoded_dataframe.loc[0])\n",
        "\n",
        "# X = data.values[:, 0:13]#data of 0 to 44 attributes\n",
        "# Y = data.values[:,13]   #data of class attribute\n",
        "X_test = encoded_dataframe.values[:, 0:12]#data of 0 to 44 attributes\n",
        "Y_test = encoded_dataframe.values[:,12]   #data of class attribute\n",
        "print(\"Splitted data shape\")\n",
        "# print(X.shape)\n",
        "# print(Y.shape)\n",
        "print(X_test.shape)\n",
        "print(Y_test.shape)"
      ],
      "execution_count": 4,
      "outputs": [
        {
          "output_type": "stream",
          "text": [
            "(159571, 13)\n",
            "Splitted data shape\n",
            "(159571, 12)\n",
            "(159571,)\n"
          ],
          "name": "stdout"
        }
      ]
    },
    {
      "cell_type": "code",
      "metadata": {
        "id": "WDWcNAZQj-o8",
        "colab_type": "code",
        "colab": {
          "base_uri": "https://localhost:8080/",
          "height": 87
        },
        "outputId": "79e42602-7505-49ba-bbe7-7ef39429490b"
      },
      "source": [
        "print(\"==================================================================\")\n",
        "import math\n",
        "from sklearn.tree import DecisionTreeClassifier\n",
        "from sklearn.metrics import accuracy_score\n",
        "# plt.show()\n",
        "from sklearn.model_selection import KFold\n",
        "from sklearn.preprocessing import MinMaxScaler\n",
        "from sklearn.svm import SVR\n",
        "depth_accuracy = []\n",
        "depth = [1,2,3,4,5,6,7,8,9,10,11,12,13,14,15,16,17,18,19,20,21,22,23,24,25]\n",
        "for i in depth:\n",
        "    scores = []\n",
        "    best_svr = SVR(kernel='rbf')\n",
        "    cv = KFold(n_splits=5, random_state=42, shuffle=True)\n",
        "    for train_index, test_index in cv.split(X_test):\n",
        "#         print(\"Train Index: \", train_index, \"\\n\")\n",
        "#         print(\"Test Index: \", test_index)\n",
        "        # print(\"Inside\")\n",
        "        x_train, x_test, y_train, y_test = X_test[train_index], X_test[test_index], Y_test[train_index], Y_test[test_index]\n",
        "        clf_gini = DecisionTreeClassifier(criterion = \"gini\", random_state = 5000,\n",
        "                               max_depth=i, min_samples_leaf=20)\n",
        "        clf_gini.fit(x_train, y_train)\n",
        "        y_pred = clf_gini.predict(x_test)\n",
        "        scores+=[accuracy_score(y_test,y_pred)*100]\n",
        "    mean_val = sum(scores)/len(scores)\n",
        "    depth_accuracy.append(mean_val)\n",
        "print(\"Accuracy Plots of Decision Tree :\",depth_accuracy)\n",
        "print(\"==================================================================\")"
      ],
      "execution_count": 5,
      "outputs": [
        {
          "output_type": "stream",
          "text": [
            "==================================================================\n",
            "Accuracy Plots of Decision Tree : [89.83211233000848, 89.83273899458626, 89.83148566543069, 89.83211223182828, 89.84840609993186, 89.84464607319309, 89.83273923021873, 89.85091295460342, 89.84025934260444, 89.837125764447, 89.8202055263062, 89.79263147980603, 89.78511130851221, 89.76443074909204, 89.76067066344515, 89.76004397923131, 89.75816390695381, 89.75503048588469, 89.74939032796026, 89.74939032796026, 89.74939032796026, 89.74939032796026, 89.74939032796026, 89.74939032796026, 89.74939032796026]\n",
            "==================================================================\n"
          ],
          "name": "stdout"
        }
      ]
    },
    {
      "cell_type": "code",
      "metadata": {
        "id": "VGDo1WyxlCFC",
        "colab_type": "code",
        "colab": {
          "base_uri": "https://localhost:8080/",
          "height": 295
        },
        "outputId": "ecb2495d-d654-4abc-bf32-e90900928c77"
      },
      "source": [
        "import matplotlib.pyplot as plt \n",
        "  \n",
        "\n",
        "  \n",
        "# plotting the points  \n",
        "plt.plot(depth, depth_accuracy) \n",
        "  \n",
        "# naming the x axis \n",
        "plt.xlabel('Depth') \n",
        "# naming the y axis \n",
        "plt.ylabel('Accuracy') \n",
        "  \n",
        "# giving a title to my graph \n",
        "plt.title('Depth Accuracy Graph') \n",
        "  \n",
        "# function to show the plot \n",
        "plt.show() "
      ],
      "execution_count": 6,
      "outputs": [
        {
          "output_type": "display_data",
          "data": {
            "image/png": "[encoded data removed]",
            "text/plain": [
              "<Figure size 432x288 with 1 Axes>"
            ]
          },
          "metadata": {
            "tags": []
          }
        }
      ]
    }
  ]
}