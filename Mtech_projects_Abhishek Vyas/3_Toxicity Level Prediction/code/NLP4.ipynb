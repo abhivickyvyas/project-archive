{
  "nbformat": 4,
  "nbformat_minor": 0,
  "metadata": {
    "colab": {
      "name": "NLP4.ipynb",
      "provenance": []
    },
    "kernelspec": {
      "name": "python3",
      "display_name": "Python 3"
    }
  },
  "cells": [
    {
      "cell_type": "code",
      "metadata": {
        "id": "Uqd9UxkxppUB",
        "colab_type": "code",
        "colab": {
          "base_uri": "https://localhost:8080/",
          "height": 423
        },
        "outputId": "735b4a67-e9a0-49b4-d5d1-e3459e9084d2"
      },
      "source": [
        "from google.colab import drive\n",
        "drive.mount('/content/drive')\n",
        "import pandas as pd\n",
        "data = pd.read_csv('/content/drive/My Drive/merge_test_labels.csv')\n",
        "data\n",
        "# Encode the data in order to do classification\n",
        "from sklearn import preprocessing\n",
        "#creating labelEncoder\n",
        "le = preprocessing.LabelEncoder()\n",
        "attributes = data.columns\n",
        "# Converting string labels into numbers.\n",
        "encoded_data =[]\n",
        "for i in attributes:\n",
        "    encoded_data.append([])\n",
        "\n",
        "for i in range(0,len(attributes)):\n",
        "    # print(attributes[i])\n",
        "    encoded_data[i]=le.fit_transform(data[attributes[i]].astype(str))\n",
        "print(\"Encoded Data\")\n",
        "for i in range(0,len(encoded_data)):\n",
        "    print(encoded_data[i])\n",
        "print(data.shape)\n",
        "from sklearn.model_selection import KFold\n",
        "indexes = data.index\n",
        "attributes = data.columns\n",
        "\n",
        "encoded_dataframe = pd.DataFrame(index=indexes)\n",
        "# print(encoded_dataframe)\n",
        "for i in range(0,len(encoded_data)):\n",
        "    encoded_dataframe.insert(i, attributes[i], encoded_data[i], True)\n",
        "# print(encoded_dataframe.shape)\n",
        "# print(encoded_dataframe.loc[0])\n",
        "\n",
        "# X = data.values[:, 0:13]#data of 0 to 44 attributes\n",
        "# Y = data.values[:,13]   #data of class attribute\n",
        "X_test = encoded_dataframe.values[:, 0:12]#data of 0 to 44 attributes\n",
        "Y_test = encoded_dataframe.values[:,12]   #data of class attribute\n",
        "print(\"Splitted data shape\")\n",
        "# print(X.shape)\n",
        "# print(Y.shape)\n",
        "print(X_test.shape)\n",
        "print(Y_test.shape)\n",
        "from sklearn.model_selection import train_test_split\n",
        "\n",
        "# Split dataset into training set and test set\n",
        "x_train, x_test, y_train, y_test = train_test_split(X_test, Y_test, test_size=0.3,random_state=109) # 70% training and 30% test"
      ],
      "execution_count": 1,
      "outputs": [
        {
          "output_type": "stream",
          "text": [
            "Go to this URL in a browser: https://accounts.google.com/o/oauth2/auth?client_id=947318989803-6bn6qk8qdgf4n4g3pfee6491hc0brc4i.apps.googleusercontent.com&redirect_uri=urn%3aietf%3awg%3aoauth%3a2.0%3aoob&response_type=code&scope=email%20https%3a%2f%2fwww.googleapis.com%2fauth%2fdocs.test%20https%3a%2f%2fwww.googleapis.com%2fauth%2fdrive%20https%3a%2f%2fwww.googleapis.com%2fauth%2fdrive.photos.readonly%20https%3a%2f%2fwww.googleapis.com%2fauth%2fpeopleapi.readonly\n",
            "\n",
            "Enter your authorization code:\n",
            "··········\n",
            "Mounted at /content/drive\n",
            "Encoded Data\n",
            "[    0     1 70683 ... 66189 66190 66192]\n",
            "[ 72696  68357  79592 ... 122203  60035  31106]\n",
            "[439 117 384 ...  26 195 284]\n",
            "[1738  132 1449 ... 3837  176  985]\n",
            "[380  89 322 ...  12 134 200]\n",
            "[155 144 131 ... 115   1 168]\n",
            "[0 0 0 ... 0 0 0]\n",
            "[ 57 112  90 ... 112  46  13]\n",
            "[110 592 415 ... 415 154 415]\n",
            "[ 942 2916  902 ... 2849 3182  358]\n",
            "[21248 22095  3840 ... 18750  3875  7302]\n",
            "[ 8163  2259 27466 ... 12006 23277  7430]\n",
            "[3 3 3 ... 3 3 3]\n",
            "(159571, 13)\n",
            "Splitted data shape\n",
            "(159571, 12)\n",
            "(159571,)\n"
          ],
          "name": "stdout"
        }
      ]
    },
    {
      "cell_type": "code",
      "metadata": {
        "id": "aiv92hCAp9Hp",
        "colab_type": "code",
        "colab": {}
      },
      "source": [
        "#Import svm model\n",
        "from sklearn import svm\n",
        "\n",
        "#Create a svm Classifier\n",
        "clf = svm.SVC(gamma='scale') # Linear Kernel\n",
        "\n",
        "#Train the model using the training sets\n",
        "clf.fit(x_train, y_train)\n",
        "\n",
        "#Predict the response for test dataset\n",
        "y_pred = clf.predict(x_test)"
      ],
      "execution_count": 0,
      "outputs": []
    },
    {
      "cell_type": "code",
      "metadata": {
        "id": "tN4RlE9Ar3nX",
        "colab_type": "code",
        "colab": {
          "base_uri": "https://localhost:8080/",
          "height": 34
        },
        "outputId": "a7415017-4758-42ab-c31a-f42c533782ab"
      },
      "source": [
        "from sklearn.metrics import accuracy_score\n",
        "print(\"Accuracy :\",accuracy_score(y_test, y_pred))"
      ],
      "execution_count": 5,
      "outputs": [
        {
          "output_type": "stream",
          "text": [
            "Accuracy : 0.8990432820855615\n"
          ],
          "name": "stdout"
        }
      ]
    }
  ]
}