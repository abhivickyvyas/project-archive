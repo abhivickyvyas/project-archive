{
  "nbformat": 4,
  "nbformat_minor": 0,
  "metadata": {
    "colab": {
      "name": "NLP2.ipynb",
      "provenance": [],
      "collapsed_sections": []
    },
    "kernelspec": {
      "name": "python3",
      "display_name": "Python 3"
    }
  },
  "cells": [
    {
      "cell_type": "code",
      "metadata": {
        "id": "5qHwZkhfA17b",
        "colab_type": "code",
        "colab": {}
      },
      "source": [
        ""
      ],
      "execution_count": 0,
      "outputs": []
    },
    {
      "cell_type": "code",
      "metadata": {
        "id": "D9xoM3dDA-sH",
        "colab_type": "code",
        "outputId": "074769a4-fd0b-42c8-a5da-5c697ee58e3d",
        "colab": {
          "base_uri": "https://localhost:8080/",
          "height": 121
        }
      },
      "source": [
        "from google.colab import drive\n",
        "drive.mount('/content/drive')"
      ],
      "execution_count": 1,
      "outputs": [
        {
          "output_type": "stream",
          "text": [
            "Go to this URL in a browser: https://accounts.google.com/o/oauth2/auth?client_id=947318989803-6bn6qk8qdgf4n4g3pfee6491hc0brc4i.apps.googleusercontent.com&redirect_uri=urn%3aietf%3awg%3aoauth%3a2.0%3aoob&response_type=code&scope=email%20https%3a%2f%2fwww.googleapis.com%2fauth%2fdocs.test%20https%3a%2f%2fwww.googleapis.com%2fauth%2fdrive%20https%3a%2f%2fwww.googleapis.com%2fauth%2fdrive.photos.readonly%20https%3a%2f%2fwww.googleapis.com%2fauth%2fpeopleapi.readonly\n",
            "\n",
            "Enter your authorization code:\n",
            "··········\n",
            "Mounted at /content/drive\n"
          ],
          "name": "stdout"
        }
      ]
    },
    {
      "cell_type": "code",
      "metadata": {
        "id": "8JpTvcXcBIc2",
        "colab_type": "code",
        "outputId": "1cd35b18-c791-44ec-a688-e9ca4cccb7fa",
        "colab": {
          "base_uri": "https://localhost:8080/",
          "height": 67
        }
      },
      "source": [
        "import pandas as pd, numpy as np\n",
        "from sklearn.linear_model import LogisticRegression\n",
        "from sklearn.feature_extraction.text import CountVectorizer, TfidfVectorizer\n",
        "train = pd.read_csv('/content/drive/My Drive/train.csv')\n",
        "test = pd.read_csv('/content/drive/My Drive/test.csv')\n",
        "sample_submission = pd.read_csv('/content/drive/My Drive/sample_submission.csv')\n",
        "print(train.shape)\n",
        "print(test.shape)\n",
        "print(sample_submission.shape)"
      ],
      "execution_count": 2,
      "outputs": [
        {
          "output_type": "stream",
          "text": [
            "(159571, 8)\n",
            "(153164, 2)\n",
            "(153164, 7)\n"
          ],
          "name": "stdout"
        }
      ]
    },
    {
      "cell_type": "code",
      "metadata": {
        "id": "1Uuo_1aGBdDu",
        "colab_type": "code",
        "outputId": "2c75b3a1-74f3-4959-cdb8-0835bc276748",
        "colab": {
          "base_uri": "https://localhost:8080/",
          "height": 34
        }
      },
      "source": [
        "\n",
        "non_toxic = []\n",
        "indexes = train.index\n",
        "attributes = train.columns\n",
        "toxicity = ['toxic', 'severe_toxic', 'obscene', 'threat',\n",
        "       'insult', 'identity_hate']\n",
        "# print(attributes)\n",
        "for i in indexes:\n",
        "  flag = 0\n",
        "  for j in attributes:\n",
        "    if j in toxicity:\n",
        "      if(train.loc[i][j]==1):\n",
        "        non_toxic.append(0)\n",
        "        flag = 1\n",
        "        break\n",
        "  if(flag == 0):\n",
        "    non_toxic.append(1)\n",
        "print(len(non_toxic))\n"
      ],
      "execution_count": 3,
      "outputs": [
        {
          "output_type": "stream",
          "text": [
            "159571\n"
          ],
          "name": "stdout"
        }
      ]
    },
    {
      "cell_type": "code",
      "metadata": {
        "id": "9ogKa9NTFMsP",
        "colab_type": "code",
        "outputId": "8cfdc39f-239c-4f28-8613-524a63a53069",
        "colab": {
          "base_uri": "https://localhost:8080/",
          "height": 50
        }
      },
      "source": [
        "#\n",
        "print(len(train.columns))\n",
        "train.insert(8, \"non_toxic\", non_toxic, True)\n",
        "print(len(train.columns))"
      ],
      "execution_count": 4,
      "outputs": [
        {
          "output_type": "stream",
          "text": [
            "8\n",
            "9\n"
          ],
          "name": "stdout"
        }
      ]
    },
    {
      "cell_type": "code",
      "metadata": {
        "id": "uDPjEy8EFsj9",
        "colab_type": "code",
        "outputId": "32a22072-dbf0-4186-b4ae-5e0f548b9209",
        "colab": {
          "base_uri": "https://localhost:8080/",
          "height": 67
        }
      },
      "source": [
        "print(\"Any missing values in training set:\",train.isnull().values.any())\n",
        "print(\"Any missing values in test set:\",test.isnull().values.any(), \"\\n\")"
      ],
      "execution_count": 5,
      "outputs": [
        {
          "output_type": "stream",
          "text": [
            "Any missing values in training set: False\n",
            "Any missing values in test set: False \n",
            "\n"
          ],
          "name": "stdout"
        }
      ]
    },
    {
      "cell_type": "code",
      "metadata": {
        "id": "xMyu_Bk7GP99",
        "colab_type": "code",
        "colab": {
          "base_uri": "https://localhost:8080/",
          "height": 34
        },
        "outputId": "737ea4ff-3393-4581-afe2-4d95e0a25c8c"
      },
      "source": [
        "import re\n",
        "import string\n",
        "temp = ([{string.punctuation}])\n",
        "print(temp)\n",
        "re_new = re.compile(f'([{string.punctuation}])')\n",
        "def tokenize(s): return re_new.sub(' \\1 ', s).split()\n",
        "# def tokenize(s): return re_new.sub(s).split()"
      ],
      "execution_count": 24,
      "outputs": [
        {
          "output_type": "stream",
          "text": [
            "[{'!\"#$%&\\'()*+,-./:;<=>?@[\\\\]^_`{|}~'}]\n"
          ],
          "name": "stdout"
        }
      ]
    },
    {
      "cell_type": "code",
      "metadata": {
        "id": "VSqASMWnGU-6",
        "colab_type": "code",
        "colab": {}
      },
      "source": [
        "from nltk.tokenize import RegexpTokenizer\n",
        "n = train.shape[0]\n",
        "# print(n)\n",
        "\n",
        "vec = TfidfVectorizer(ngram_range=(1,2), tokenizer= tokenize,\n",
        "               min_df=3, max_df=0.9, strip_accents='unicode', use_idf=1,\n",
        "               smooth_idf=1, sublinear_tf=1 )\n",
        "train_term_doc = vec.fit_transform(train['comment_text'])\n",
        "test_term_doc = vec.transform(test['comment_text'])"
      ],
      "execution_count": 0,
      "outputs": []
    },
    {
      "cell_type": "code",
      "metadata": {
        "id": "SC8yyjjrHCzY",
        "colab_type": "code",
        "outputId": "0e9753dc-d2ad-4d0c-e6de-2ac084e7d241",
        "colab": {
          "base_uri": "https://localhost:8080/",
          "height": 1000
        }
      },
      "source": [
        "print(train_term_doc)\n",
        "print(test_term_doc)"
      ],
      "execution_count": 26,
      "outputs": [
        {
          "output_type": "stream",
          "text": [
            "  (0, 605)\t0.09554896532881822\n",
            "  (0, 24812)\t0.1106120878711465\n",
            "  (0, 754)\t0.10854842526372448\n",
            "  (0, 23629)\t0.12176298365103679\n",
            "  (0, 495)\t0.12025660428336654\n",
            "  (0, 26386)\t0.11569800392263023\n",
            "  (0, 1120)\t0.11467471067118694\n",
            "  (0, 227247)\t0.06759576617142528\n",
            "  (0, 277168)\t0.16840057590137794\n",
            "  (0, 201372)\t0.17114473997599935\n",
            "  (0, 11201)\t0.051393125279668044\n",
            "  (0, 166567)\t0.04236364181253797\n",
            "  (0, 294758)\t0.09316943388910333\n",
            "  (0, 247592)\t0.13875806755423012\n",
            "  (0, 313961)\t0.056633812011729436\n",
            "  (0, 329299)\t0.07665655627718654\n",
            "  (0, 144101)\t0.060726562694642244\n",
            "  (0, 315470)\t0.13618994328915118\n",
            "  (0, 329374)\t0.09630117531627859\n",
            "  (0, 274210)\t0.08246823528371676\n",
            "  (0, 312626)\t0.1200532061591735\n",
            "  (0, 118042)\t0.04782563569642296\n",
            "  (0, 255178)\t0.09431222436044351\n",
            "  (0, 50627)\t0.1044554877864965\n",
            "  (0, 1883)\t0.03610765384594172\n",
            "  :\t:\n",
            "  (159570, 19616)\t0.0797181152108849\n",
            "  (159570, 331579)\t0.08955222378050001\n",
            "  (159570, 20158)\t0.055335961190675305\n",
            "  (159570, 331578)\t0.07154858046882678\n",
            "  (159570, 149285)\t0.0786190686824211\n",
            "  (159570, 360218)\t0.052127239162556016\n",
            "  (159570, 364989)\t0.05569312163438101\n",
            "  (159570, 378046)\t0.07409121672266558\n",
            "  (159570, 156337)\t0.04542066323773301\n",
            "  (159570, 377274)\t0.05818514090796133\n",
            "  (159570, 334565)\t0.06495298695765486\n",
            "  (159570, 176808)\t0.10592663728119665\n",
            "  (159570, 9231)\t0.06628961427838803\n",
            "  (159570, 229486)\t0.057772488196108474\n",
            "  (159570, 176781)\t0.0958340931717016\n",
            "  (159570, 269488)\t0.07900457902885229\n",
            "  (159570, 0)\t0.087275876841825\n",
            "  (159570, 118042)\t0.06254644629678045\n",
            "  (159570, 1883)\t0.04722165004796467\n",
            "  (159570, 17686)\t0.04798535799823301\n",
            "  (159570, 118041)\t0.062403281221156154\n",
            "  (159570, 46240)\t0.056097449350605115\n",
            "  (159570, 166566)\t0.05424964539866954\n",
            "  (159570, 311853)\t0.04778224960132283\n",
            "  (159570, 216258)\t0.05383478659261599\n",
            "  (0, 379019)\t0.06381757991185241\n",
            "  (0, 378771)\t0.12271852872034507\n",
            "  (0, 378027)\t0.0856327209004169\n",
            "  (0, 377364)\t0.07251599028786994\n",
            "  (0, 377275)\t0.03979473383535538\n",
            "  (0, 377274)\t0.05931761496832181\n",
            "  (0, 377153)\t0.09444415155303179\n",
            "  (0, 375857)\t0.05939733697515053\n",
            "  (0, 372766)\t0.07234394291803285\n",
            "  (0, 371321)\t0.03172952416332163\n",
            "  (0, 367140)\t0.1480555793496101\n",
            "  (0, 367127)\t0.12981751346698472\n",
            "  (0, 365535)\t0.12516709445337718\n",
            "  (0, 365518)\t0.09680962031319357\n",
            "  (0, 360246)\t0.06163063140520114\n",
            "  (0, 360218)\t0.03448133389001561\n",
            "  (0, 352537)\t0.0923705283031488\n",
            "  (0, 352071)\t0.07802974369943332\n",
            "  (0, 351784)\t0.04463886427442012\n",
            "  (0, 347464)\t0.13464924642377685\n",
            "  (0, 344058)\t0.06640311894661301\n",
            "  (0, 344057)\t0.053965508625914246\n",
            "  (0, 341477)\t0.13464924642377685\n",
            "  (0, 339274)\t0.019831256055058654\n",
            "  (0, 338446)\t0.057959244577891214\n",
            "  :\t:\n",
            "  (153163, 179646)\t0.07577374134189116\n",
            "  (153163, 168865)\t0.07619037521520106\n",
            "  (153163, 168592)\t0.06083189994978954\n",
            "  (153163, 166567)\t0.07053423553709422\n",
            "  (153163, 166566)\t0.040791246840050754\n",
            "  (153163, 160451)\t0.09676810134425376\n",
            "  (153163, 160450)\t0.08117744153716977\n",
            "  (153163, 138630)\t0.19672875764059844\n",
            "  (153163, 138629)\t0.1798830235748386\n",
            "  (153163, 131194)\t0.2803820771068526\n",
            "  (153163, 125512)\t0.15402148419477654\n",
            "  (153163, 125511)\t0.11970277572659359\n",
            "  (153163, 81838)\t0.26100604274522843\n",
            "  (153163, 81832)\t0.17409500048141377\n",
            "  (153163, 49158)\t0.13771198403064497\n",
            "  (153163, 46240)\t0.04218064259667764\n",
            "  (153163, 41894)\t0.16347755074988732\n",
            "  (153163, 41893)\t0.11273642698606308\n",
            "  (153163, 20164)\t0.10845039276858491\n",
            "  (153163, 19578)\t0.13068984343940654\n",
            "  (153163, 17298)\t0.15073935338560238\n",
            "  (153163, 11201)\t0.0855680637539204\n",
            "  (153163, 9231)\t0.04984430772017165\n",
            "  (153163, 1883)\t0.06011819692771927\n",
            "  (153163, 0)\t0.10160990752758281\n"
          ],
          "name": "stdout"
        }
      ]
    },
    {
      "cell_type": "code",
      "metadata": {
        "id": "TnYK_Em-HGn9",
        "colab_type": "code",
        "outputId": "a2b73560-7c63-4bd4-a2aa-e626f1718eda",
        "colab": {
          "base_uri": "https://localhost:8080/",
          "height": 1000
        }
      },
      "source": [
        "def prob(y_i, y):\n",
        "  # print(y_i,y)\n",
        "  p = x[y==y_i].sum(0)\n",
        "  print(type(y==y_i))\n",
        "  print(y==y_i)\n",
        "  print(p)\n",
        "  return (p+1) / ((y==y_i).sum()+1)\n",
        "x = train_term_doc\n",
        "test_x = test_term_doc\n",
        "# pr(1,y)\n",
        "def get_value(y):\n",
        "  y = y.values\n",
        "  r = np.log(pr(1,y) / prob(0,y))\n",
        "  m = LogisticRegression(C=4, dual=True)\n",
        "  x_nb = x.multiply(r)\n",
        "  return m.fit(x_nb, y), r\n",
        "preds = np.zeros((len(test), len(toxicity)))\n",
        "\n",
        "for i, j in enumerate(toxicity):\n",
        "    print('fit', j)\n",
        "    m,r = get_value(train[j])\n",
        "    preds[:,i] = m.predict_proba(test_x.multiply(r))[:,1]"
      ],
      "execution_count": 27,
      "outputs": [
        {
          "output_type": "stream",
          "text": [
            "fit toxic\n",
            "<class 'numpy.ndarray'>\n",
            "[False False False ... False False False]\n",
            "[[413.16166202   5.07989104   2.26768616 ...   0.           0.\n",
            "    0.        ]]\n",
            "<class 'numpy.ndarray'>\n",
            "[ True  True  True ...  True  True  True]\n",
            "[[4.26156350e+03 7.93308576e+01 5.22848041e+01 ... 3.99301467e-01\n",
            "  3.19218811e+00 3.19218811e+00]]\n"
          ],
          "name": "stdout"
        },
        {
          "output_type": "stream",
          "text": [
            "/usr/local/lib/python3.6/dist-packages/sklearn/linear_model/logistic.py:432: FutureWarning: Default solver will be changed to 'lbfgs' in 0.22. Specify a solver to silence this warning.\n",
            "  FutureWarning)\n"
          ],
          "name": "stderr"
        },
        {
          "output_type": "stream",
          "text": [
            "fit severe_toxic\n",
            "<class 'numpy.ndarray'>\n",
            "[False False False ... False False False]\n",
            "[[44.49954305  0.95040819  0.18992393 ...  0.          0.\n",
            "   0.        ]]\n",
            "<class 'numpy.ndarray'>\n",
            "[ True  True  True ...  True  True  True]\n",
            "[[4.63022561e+03 8.34603405e+01 5.43625663e+01 ... 3.99301467e-01\n",
            "  3.19218811e+00 3.19218811e+00]]\n"
          ],
          "name": "stdout"
        },
        {
          "output_type": "stream",
          "text": [
            "/usr/local/lib/python3.6/dist-packages/sklearn/linear_model/logistic.py:432: FutureWarning: Default solver will be changed to 'lbfgs' in 0.22. Specify a solver to silence this warning.\n",
            "  FutureWarning)\n",
            "/usr/local/lib/python3.6/dist-packages/sklearn/svm/base.py:929: ConvergenceWarning: Liblinear failed to converge, increase the number of iterations.\n",
            "  \"the number of iterations.\", ConvergenceWarning)\n"
          ],
          "name": "stderr"
        },
        {
          "output_type": "stream",
          "text": [
            "fit obscene\n",
            "<class 'numpy.ndarray'>\n",
            "[False False False ... False False False]\n",
            "[[228.18820287   2.9786698    1.16422224 ...   0.           0.\n",
            "    0.        ]]\n",
            "<class 'numpy.ndarray'>\n",
            "[ True  True  True ...  True  True  True]\n",
            "[[4.44653695e+03 8.14320789e+01 5.33882680e+01 ... 3.99301467e-01\n",
            "  3.19218811e+00 3.19218811e+00]]\n"
          ],
          "name": "stdout"
        },
        {
          "output_type": "stream",
          "text": [
            "/usr/local/lib/python3.6/dist-packages/sklearn/linear_model/logistic.py:432: FutureWarning: Default solver will be changed to 'lbfgs' in 0.22. Specify a solver to silence this warning.\n",
            "  FutureWarning)\n",
            "/usr/local/lib/python3.6/dist-packages/sklearn/svm/base.py:929: ConvergenceWarning: Liblinear failed to converge, increase the number of iterations.\n",
            "  \"the number of iterations.\", ConvergenceWarning)\n"
          ],
          "name": "stderr"
        },
        {
          "output_type": "stream",
          "text": [
            "fit threat\n",
            "<class 'numpy.ndarray'>\n",
            "[False False False ... False False False]\n",
            "[[10.23952674  0.17846021  0.         ...  0.          0.\n",
            "   0.        ]]\n",
            "<class 'numpy.ndarray'>\n",
            "[ True  True  True ...  True  True  True]\n",
            "[[4.66448563e+03 8.42322885e+01 5.45524902e+01 ... 3.99301467e-01\n",
            "  3.19218811e+00 3.19218811e+00]]\n"
          ],
          "name": "stdout"
        },
        {
          "output_type": "stream",
          "text": [
            "/usr/local/lib/python3.6/dist-packages/sklearn/linear_model/logistic.py:432: FutureWarning: Default solver will be changed to 'lbfgs' in 0.22. Specify a solver to silence this warning.\n",
            "  FutureWarning)\n",
            "/usr/local/lib/python3.6/dist-packages/sklearn/svm/base.py:929: ConvergenceWarning: Liblinear failed to converge, increase the number of iterations.\n",
            "  \"the number of iterations.\", ConvergenceWarning)\n"
          ],
          "name": "stderr"
        },
        {
          "output_type": "stream",
          "text": [
            "fit insult\n",
            "<class 'numpy.ndarray'>\n",
            "[False False False ... False False False]\n",
            "[[196.46140779   2.5646008    0.89865972 ...   0.           0.\n",
            "    0.        ]]\n",
            "<class 'numpy.ndarray'>\n",
            "[ True  True  True ...  True  True  True]\n",
            "[[4.47826375e+03 8.18461479e+01 5.36538305e+01 ... 3.99301467e-01\n",
            "  3.19218811e+00 3.19218811e+00]]\n"
          ],
          "name": "stdout"
        },
        {
          "output_type": "stream",
          "text": [
            "/usr/local/lib/python3.6/dist-packages/sklearn/linear_model/logistic.py:432: FutureWarning: Default solver will be changed to 'lbfgs' in 0.22. Specify a solver to silence this warning.\n",
            "  FutureWarning)\n",
            "/usr/local/lib/python3.6/dist-packages/sklearn/svm/base.py:929: ConvergenceWarning: Liblinear failed to converge, increase the number of iterations.\n",
            "  \"the number of iterations.\", ConvergenceWarning)\n"
          ],
          "name": "stderr"
        },
        {
          "output_type": "stream",
          "text": [
            "fit identity_hate\n",
            "<class 'numpy.ndarray'>\n",
            "[False False False ... False False False]\n",
            "[[34.56445382  0.60038758  0.06294123 ...  0.          0.\n",
            "   0.        ]]\n",
            "<class 'numpy.ndarray'>\n",
            "[ True  True  True ...  True  True  True]\n",
            "[[4.64016070e+03 8.38103611e+01 5.44895490e+01 ... 3.99301467e-01\n",
            "  3.19218811e+00 3.19218811e+00]]\n"
          ],
          "name": "stdout"
        },
        {
          "output_type": "stream",
          "text": [
            "/usr/local/lib/python3.6/dist-packages/sklearn/linear_model/logistic.py:432: FutureWarning: Default solver will be changed to 'lbfgs' in 0.22. Specify a solver to silence this warning.\n",
            "  FutureWarning)\n",
            "/usr/local/lib/python3.6/dist-packages/sklearn/svm/base.py:929: ConvergenceWarning: Liblinear failed to converge, increase the number of iterations.\n",
            "  \"the number of iterations.\", ConvergenceWarning)\n"
          ],
          "name": "stderr"
        }
      ]
    },
    {
      "cell_type": "code",
      "metadata": {
        "id": "S9CobK-WHK06",
        "colab_type": "code",
        "outputId": "a4041e8a-38fb-43d3-b400-ee27a4fa490c",
        "colab": {
          "base_uri": "https://localhost:8080/",
          "height": 235
        }
      },
      "source": [
        "submission_id = pd.DataFrame({'id': sample_submission[\"id\"]})\n",
        "# print(submid.head(10))\n",
        "submission_toxic = pd.DataFrame(preds, columns = toxicity)\n",
        "submission = pd.concat([submission_id, submission_toxic],axis = 1)\n",
        "print(submission.head(10))\n",
        "submission.to_csv('/content/drive/My Drive/submission.csv', index=False)\n",
        "\n",
        "    \n"
      ],
      "execution_count": 30,
      "outputs": [
        {
          "output_type": "stream",
          "text": [
            "                 id     toxic  severe_toxic  ...    threat    insult  identity_hate\n",
            "0  00001cee341fdb12  0.999993      0.045162  ...  0.002365  0.972025       0.116406\n",
            "1  0000247867823ef7  0.001132      0.000259  ...  0.000088  0.001281       0.000274\n",
            "2  00013b17ad220c46  0.003289      0.000345  ...  0.000113  0.001560       0.000404\n",
            "3  00017563c3f7919a  0.001047      0.000222  ...  0.000177  0.001023       0.000271\n",
            "4  00017695ad8997eb  0.010655      0.000504  ...  0.000130  0.002361       0.000337\n",
            "5  0001ea8717f6de06  0.005314      0.000266  ...  0.000371  0.002921       0.000337\n",
            "6  00024115d4cbde0f  0.000394      0.000166  ...  0.000091  0.000702       0.000348\n",
            "7  000247e83dcc1211  0.517880      0.000442  ...  0.000143  0.012646       0.000338\n",
            "8  00025358d4737918  0.015155      0.000216  ...  0.000161  0.003916       0.000571\n",
            "9  00026d1092fe71cc  0.002820      0.000227  ...  0.000111  0.002646       0.000262\n",
            "\n",
            "[10 rows x 7 columns]\n"
          ],
          "name": "stdout"
        }
      ]
    }
  ]
}